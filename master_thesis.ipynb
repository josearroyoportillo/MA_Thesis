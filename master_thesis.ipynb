{
 "cells": [
  {
   "cell_type": "markdown",
   "source": [
    "# TODO\n",
    "1. Import newspapers\n",
    "2.\n",
    "3. Translate to english\n",
    "4. Find out which type of regression to use\n",
    "5. Reduce text complexity processes\n",
    "6. Perform topic modeling\n",
    "7. Perform similarity comparison of topic models\n",
    "8. Add similarity to df and perform regression"
   ],
   "metadata": {
    "collapsed": false
   }
  },
  {
   "attachments": {},
   "cell_type": "markdown",
   "metadata": {},
   "source": [
    "# Topic Modeling of Solar Renewable Energy Projects"
   ]
  },
  {
   "cell_type": "markdown",
   "source": [
    "# 1) Data"
   ],
   "metadata": {
    "collapsed": false
   }
  },
  {
   "cell_type": "markdown",
   "source": [
    "## 1a) Add DENA info to df"
   ],
   "metadata": {
    "collapsed": false
   }
  },
  {
   "cell_type": "markdown",
   "source": [
    "### Importing DENA files to a df"
   ],
   "metadata": {
    "collapsed": false
   }
  },
  {
   "cell_type": "code",
   "execution_count": null,
   "outputs": [],
   "source": [
    "import os # reads directory of stored DENA pdfs\n",
    "from PyPDF2 import PdfReader # reads pdfs\n",
    "import re # regex is used for finding date published of DENA report\n",
    "import pandas as pd\n",
    "\n",
    "directory  = 'DENA'\n",
    "df = pd.DataFrame(columns = [\"name\", \"year\", \"doc\", \"BETD\", \"DENA\", \"news\", \"txt_sim_news\", \"txt_sim_fce\", \"txt_sim_proj\"])\n",
    "\n",
    "for filename in os.listdir(directory): # for loop for importing all DENA files to a dataframe\n",
    "    f = os.path.join(directory,filename)\n",
    "    if os.path.isfile(f):\n",
    "        reader = PdfReader(f)\n",
    "        n_pages = reader._get_num_pages()\n",
    "        n_pages = n_pages-1\n",
    "        n_text = []\n",
    "        document = ''\n",
    "\n",
    "        for i in range(n_pages):\n",
    "            page = reader.pages[n_pages]\n",
    "            text = page.extract_text()\n",
    "            document = document + text\n",
    "\n",
    "        reg_date = re.findall('2017|2018|2019|2020|2021|2022', document)\n",
    "\n",
    "        year = ''\n",
    "        if reg_date:\n",
    "            year  = reg_date[0]\n",
    "        if not reg_date:\n",
    "            reg_date = re.findall('2018|2019|2020|2021|2022', filename)\n",
    "            if reg_date:\n",
    "                year = reg_date[0]\n",
    "            if not reg_date:\n",
    "                year = 'na'\n",
    "        filename = filename.rstrip('.pdf')\n",
    "       # insert to df\n",
    "        df.loc[-1] = [filename, year ,document, 0, 1, 0, 'na', 'na', 'na']\n",
    "        df.index = df.index + 1\n",
    "        df = df.sort_index()\n",
    "\n",
    "# print(df['doc'].iloc[2])"
   ],
   "metadata": {
    "collapsed": false,
    "pycharm": {
     "is_executing": true
    }
   }
  },
  {
   "cell_type": "code",
   "execution_count": 20,
   "outputs": [
    {
     "name": "stdout",
     "output_type": "stream",
     "text": [
      "                                                  name  year  \\\n",
      "0                           9173_RES-Projekt_Kolumbien         \n",
      "1    Report_Status_and_Perspectives_of_Renewable_En...  2017   \n",
      "2                               9168_RES-Projekt_Ghana  2020   \n",
      "3    dena-Umfrage_Kuenstliche_Intelligenz_in_der_En...  2021   \n",
      "4                              dena-Factsheet_RES_Togo  2019   \n",
      "..                                                 ...   ...   \n",
      "859            dena-ANALYSE_Marktmonitoring_Bioenergie    na   \n",
      "860                                RES-Projekt_Ecuador  2019   \n",
      "861  Abschlussbericht_dena-Leitstudie_Aufbruch_Klim...    na   \n",
      "862           POSITIONSPAPIER_EEG-Novelle_Layout_final    na   \n",
      "863  dena-Abschlussbericht_Wirksamer_Klimaschutz_du...    na   \n",
      "\n",
      "                                                   doc  BETD  DENA  news  \\\n",
      "0    RES-PROJEkT kOLuMBIEn\\ndena-Renewable-Energy-S...     0     1     0   \n",
      "1    Report \\nStatus and Perspectives of  \\nRenewab...     0     1     0   \n",
      "2    dena-ReneWaBLe-eneRgy-SoLuTIonS-PRogRaMM\\ndena...     0     1     0   \n",
      "3    dena-UMFRAGE \\nKünstliche Intelligenz in der \\...     0     1     0   \n",
      "4    RES-PROJEKT TOGO\\ndena-Renewable-Energy-Soluti...     0     1     0   \n",
      "..                                                 ...   ...   ...   ...   \n",
      "859   \\n  \\n \\nwww.dena.de  \\n \\n  \\n \\nwww.dena.de...     0     1     0   \n",
      "860  Dieses Projekt wurde im Zuge des von der Deuts...     0     1     0   \n",
      "861  www.dena.dewww.dena.dewww.dena.dewww.dena.deww...     0     1     0   \n",
      "862  11 \\n Unsere Mitglieder        \\n  \\n11 \\n Uns...     0     1     0   \n",
      "863  www.dena.dewww.dena.dewww.dena.dewww.dena.deww...     0     1     0   \n",
      "\n",
      "    txt_sim_news txt_sim_fce txt_sim_proj  \n",
      "0             na          na           na  \n",
      "1             na          na           na  \n",
      "2             na          na           na  \n",
      "3             na          na           na  \n",
      "4             na          na           na  \n",
      "..           ...         ...          ...  \n",
      "859           na          na           na  \n",
      "860           na          na           na  \n",
      "861           na          na           na  \n",
      "862           na          na           na  \n",
      "863           na          na           na  \n",
      "\n",
      "[864 rows x 9 columns]\n"
     ]
    }
   ],
   "source": [
    "from pdfminer.high_level import extract_text\n",
    "\n",
    "directory = 'DENA'\n",
    "\n",
    "for filename in os.listdir(directory):\n",
    "    file = os.path.join(directory,filename)\n",
    "    if os.path.isfile(file):\n",
    "        document = extract_text(file)\n",
    "        filename = filename.rstrip('.pdf')\n",
    "        reg_date = re.findall('2017|2018|2019|2020|2021|2022', document)\n",
    "\n",
    "        year = ''\n",
    "        if reg_date:\n",
    "            year  = reg_date[0]\n",
    "        # insert to df\n",
    "        df.loc[-1] = [filename, year ,document, 0, 1, 0, 'na', 'na', 'na']\n",
    "        df.index = df.index + 1\n",
    "        df = df.sort_index()\n",
    "\n",
    "print(df)"
   ],
   "metadata": {
    "collapsed": false
   }
  },
  {
   "cell_type": "markdown",
   "source": [
    "### Cleaning DENA files"
   ],
   "metadata": {
    "collapsed": false
   }
  },
  {
   "cell_type": "code",
   "execution_count": 15,
   "outputs": [],
   "source": [
    "# filling in DENA information with additional text files\n",
    "#todo: drop all columns that are not within date range after fixing files\n",
    "# df.drop(axis=0, index=0, inplace=True)\n",
    "# df['year'].iloc[112] = 2019\n",
    "# df['doc'].iloc[112] = ''\n",
    "# print(df['doc'].iloc[111])"
   ],
   "metadata": {
    "collapsed": false
   }
  },
  {
   "cell_type": "code",
   "execution_count": 16,
   "outputs": [],
   "source": [
    "# TEAM: make this cell to loop through df and manually add year at index, n=65"
   ],
   "metadata": {
    "collapsed": false
   }
  },
  {
   "cell_type": "markdown",
   "source": [
    "## 1b) Importing BETD files"
   ],
   "metadata": {
    "collapsed": false
   }
  },
  {
   "cell_type": "code",
   "execution_count": 17,
   "outputs": [],
   "source": [
    "directories = ['BETD18', 'BETD19', 'BETD21', 'BETD22']\n",
    "year = 2018\n",
    "for directory in directories:\n",
    "    if year == 2020:\n",
    "        year = year + 1\n",
    "    for filename in os.listdir(directory):\n",
    "        file = os.path.join(directory,filename)\n",
    "        if os.path.isfile(file):\n",
    "            with open(file) as f:\n",
    "                document = f.readlines()\n",
    "            filename = filename.rstrip('.pdf')\n",
    "\n",
    "            # insert to df\n",
    "            df.loc[-1] = [filename, year ,document, 1, 0, 0, 'na', 'na', 'na']\n",
    "            df.index = df.index + 1\n",
    "            df = df.sort_index()\n",
    "    year = year + 1"
   ],
   "metadata": {
    "collapsed": false
   }
  },
  {
   "cell_type": "markdown",
   "source": [
    "## 1c) Importing newspapers"
   ],
   "metadata": {
    "collapsed": false
   }
  },
  {
   "cell_type": "code",
   "execution_count": 18,
   "outputs": [
    {
     "name": "stdout",
     "output_type": "stream",
     "text": [
      "                                                  name  year  \\\n",
      "0                        Solarbranche_in_Erklärungsnot  2021   \n",
      "1                      Endspiel_für_die_Klimakanzlerin  2019   \n",
      "2                                   Blick_in_die_Sonne  2022   \n",
      "3    Die_allermeisten_Deutschen_haben_es_warm_genug...  2018   \n",
      "4                               Sonne_mach_mich_reich_  2018   \n",
      "..                                                 ...   ...   \n",
      "746            dena-ANALYSE_Marktmonitoring_Bioenergie    na   \n",
      "747                                RES-Projekt_Ecuador  2019   \n",
      "748  Abschlussbericht_dena-Leitstudie_Aufbruch_Klim...    na   \n",
      "749           POSITIONSPAPIER_EEG-Novelle_Layout_final    na   \n",
      "750  dena-Abschlussbericht_Wirksamer_Klimaschutz_du...    na   \n",
      "\n",
      "                                                   doc  BETD  DENA  news  \\\n",
      "0    Solarbranche in Erklärungsnot\\n\\nHandelsblatt ...     1     0     0   \n",
      "1    Endspiel für die Klimakanzlerin\\n\\nHandelsblat...     1     0     0   \n",
      "2    Blick in die Sonne\\n\\nWelt am Sonntag, 25.09.2...     1     0     0   \n",
      "3    Die allermeisten Deutschen haben es warm genug...     1     0     0   \n",
      "4    Sonne, mach mich reich!\\n\\nWelt am Sonntag, 05...     1     0     0   \n",
      "..                                                 ...   ...   ...   ...   \n",
      "746   \\n  \\n \\nwww.dena.de  \\n \\n  \\n \\nwww.dena.de...     0     1     0   \n",
      "747  Dieses Projekt wurde im Zuge des von der Deuts...     0     1     0   \n",
      "748  www.dena.dewww.dena.dewww.dena.dewww.dena.deww...     0     1     0   \n",
      "749  11 \\n Unsere Mitglieder        \\n  \\n11 \\n Uns...     0     1     0   \n",
      "750  www.dena.dewww.dena.dewww.dena.dewww.dena.deww...     0     1     0   \n",
      "\n",
      "    txt_sim_news txt_sim_fce txt_sim_proj  \n",
      "0             na          na           na  \n",
      "1             na          na           na  \n",
      "2             na          na           na  \n",
      "3             na          na           na  \n",
      "4             na          na           na  \n",
      "..           ...         ...          ...  \n",
      "746           na          na           na  \n",
      "747           na          na           na  \n",
      "748           na          na           na  \n",
      "749           na          na           na  \n",
      "750           na          na           na  \n",
      "\n",
      "[751 rows x 9 columns]\n"
     ]
    }
   ],
   "source": [
    "from pdfminer.high_level import extract_text\n",
    "\n",
    "directory = 'newspapers'\n",
    "\n",
    "for filename in os.listdir(directory):\n",
    "    file = os.path.join(directory,filename)\n",
    "    if os.path.isfile(file):\n",
    "        document = extract_text(file)\n",
    "        filename = filename.rstrip('.pdf')\n",
    "        reg_date = re.findall('2017|2018|2019|2020|2021|2022', document)\n",
    "\n",
    "        year = ''\n",
    "        if reg_date:\n",
    "            year  = reg_date[0]\n",
    "        # insert to df\n",
    "        df.loc[-1] = [filename, year ,document, 0, 0, 1, 'na', 'na', 'na']\n",
    "        df.index = df.index + 1\n",
    "        df = df.sort_index()\n",
    "\n",
    "print(df)"
   ],
   "metadata": {
    "collapsed": false
   }
  },
  {
   "cell_type": "markdown",
   "source": [
    "## 1d) Detect language in df cell and translate inplace"
   ],
   "metadata": {
    "collapsed": false
   }
  },
  {
   "cell_type": "code",
   "execution_count": 19,
   "outputs": [],
   "source": [
    "# DeepL api integration (must have account for api to run cell)\n",
    "# print(df['doc'].iloc[111])"
   ],
   "metadata": {
    "collapsed": false
   }
  }
 ],
 "metadata": {
  "kernelspec": {
   "display_name": "Python 3",
   "language": "python",
   "name": "python3"
  },
  "language_info": {
   "codemirror_mode": {
    "name": "ipython",
    "version": 3
   },
   "file_extension": ".py",
   "mimetype": "text/x-python",
   "name": "python",
   "nbconvert_exporter": "python",
   "pygments_lexer": "ipython3",
   "version": "3.11.1 (tags/v3.11.1:a7a450f, Dec  6 2022, 19:58:39) [MSC v.1934 64 bit (AMD64)]"
  },
  "orig_nbformat": 4,
  "vscode": {
   "interpreter": {
    "hash": "bceeea225f1c79fe9d4a79d78f613f2a9524358526b20f158b6582de90ecacad"
   }
  }
 },
 "nbformat": 4,
 "nbformat_minor": 2
}
