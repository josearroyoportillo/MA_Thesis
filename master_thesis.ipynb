{
 "cells": [
  {
   "cell_type": "markdown",
   "source": [
    "# TODO\n",
    "1. Import DENA and BETD to python\n",
    "2. Import date, document, and parent organization to df\n",
    "3. Translate to english\n",
    "4. Find out which type of regression to use\n",
    "5. Reduce text complexity processes\n",
    "6. Perform topic modeling\n",
    "7. Perform similarity comparison of topic models\n",
    "8. Add similarity to df and perform regression"
   ],
   "metadata": {
    "collapsed": false
   }
  },
  {
   "attachments": {},
   "cell_type": "markdown",
   "metadata": {},
   "source": [
    "# Topic Modeling of Solar Renewable Energy Projects"
   ]
  },
  {
   "cell_type": "markdown",
   "source": [
    "# 1) Data"
   ],
   "metadata": {
    "collapsed": false
   }
  },
  {
   "attachments": {},
   "cell_type": "markdown",
   "metadata": {},
   "source": [
    "## 1a) Create main dataframe"
   ]
  },
  {
   "cell_type": "markdown",
   "source": [
    "## 1b) Add DENA info to df"
   ],
   "metadata": {
    "collapsed": false
   }
  },
  {
   "cell_type": "code",
   "execution_count": 6,
   "outputs": [
    {
     "ename": "TypeError",
     "evalue": "'int' object is not iterable",
     "output_type": "error",
     "traceback": [
      "\u001B[1;31m---------------------------------------------------------------------------\u001B[0m",
      "\u001B[1;31mTypeError\u001B[0m                                 Traceback (most recent call last)",
      "Cell \u001B[1;32mIn[6], line 19\u001B[0m\n\u001B[0;32m     17\u001B[0m n_text \u001B[38;5;241m=\u001B[39m []\n\u001B[0;32m     18\u001B[0m document \u001B[38;5;241m=\u001B[39m \u001B[38;5;124m'\u001B[39m\u001B[38;5;124m'\u001B[39m\n\u001B[1;32m---> 19\u001B[0m \u001B[38;5;28;01mfor\u001B[39;00m i \u001B[38;5;129;01min\u001B[39;00m \u001B[38;5;28mint\u001B[39m(n_pages):\n\u001B[0;32m     20\u001B[0m     page \u001B[38;5;241m=\u001B[39m reader\u001B[38;5;241m.\u001B[39mpages[n_pages]\n\u001B[0;32m     21\u001B[0m     text \u001B[38;5;241m=\u001B[39m page\u001B[38;5;241m.\u001B[39mextract_text()\n",
      "\u001B[1;31mTypeError\u001B[0m: 'int' object is not iterable"
     ]
    }
   ],
   "source": [
    "import os # reads directory of stored DENA pdfs\n",
    "from PyPDF2 import PdfReader # reads pdfs\n",
    "import re # regex is used for finding date published of DENA report\n",
    "import pandas as pd\n",
    "\n",
    "directory  = 'DENA'\n",
    "\n",
    "\n",
    "df = pd.DataFrame(columns = [\"name\", \"year\", \"doc\", \"BETD\", \"DENA\", \"news\", \"txt_sim_news\", \"txt_sim_fce\", \"txt_sim_proj\"])\n",
    "\n",
    "for filename in os.listdir(directory): # for loop for importing all DENA files to a dataframe\n",
    "    f = os.path.join(directory,filename)\n",
    "    if os.path.isfile(f):\n",
    "        reader = PdfReader(f)\n",
    "        n_pages = reader._get_num_pages()\n",
    "        n_pages = n_pages-1\n",
    "        n_text = []\n",
    "        document = ''\n",
    "        # TODO: FIX LOOP FOR PAGES\n",
    "        for i in int(n_pages):\n",
    "            page = reader.pages[n_pages]\n",
    "            text = page.extract_text()\n",
    "            document = document + text\n",
    "\n",
    "        reg_date = re.findall('2017|2018|2019|2020|2021|2022', document)\n",
    "\n",
    "        year = ''\n",
    "        if reg_date:\n",
    "            year  = reg_date[0]\n",
    "        if not reg_date:\n",
    "            reg_date = re.findall('2017|2018|2019|2020|2021|2022', filename)\n",
    "            if reg_date:\n",
    "                year = reg_date[0]\n",
    "            if not reg_date:\n",
    "                year = 'na'\n",
    "\n",
    "       # insert to df\n",
    "        df.loc[-1] = [filename, year ,document, 0, 1, 0, 'na', 'na', 'na']\n",
    "        df.index = df.index + 1\n",
    "        df = df.sort_index()\n",
    "    # print(filename.rstrip('.pdf'))\n",
    "print(df)\n",
    "pd.set_option('display.max_colwidth', None)\n",
    "print(df['doc'].iloc[2])"
   ],
   "metadata": {
    "collapsed": false
   }
  },
  {
   "cell_type": "code",
   "execution_count": null,
   "outputs": [],
   "source": [
    "# TEAM: make this cell to loop through df and manually add year at index, n=65"
   ],
   "metadata": {
    "collapsed": false
   }
  },
  {
   "cell_type": "code",
   "execution_count": null,
   "outputs": [],
   "source": [
    "# for loop for importing all BETD files to a dataframe"
   ],
   "metadata": {
    "collapsed": false
   }
  },
  {
   "cell_type": "markdown",
   "source": [
    "## 1c) Detect language in df cell and translate inplace"
   ],
   "metadata": {
    "collapsed": false
   }
  },
  {
   "cell_type": "code",
   "execution_count": null,
   "outputs": [],
   "source": [
    "# DeepL api integration (must have account for api to run cell)"
   ],
   "metadata": {
    "collapsed": false
   }
  }
 ],
 "metadata": {
  "kernelspec": {
   "display_name": "Python 3",
   "language": "python",
   "name": "python3"
  },
  "language_info": {
   "codemirror_mode": {
    "name": "ipython",
    "version": 3
   },
   "file_extension": ".py",
   "mimetype": "text/x-python",
   "name": "python",
   "nbconvert_exporter": "python",
   "pygments_lexer": "ipython3",
   "version": "3.11.1 (tags/v3.11.1:a7a450f, Dec  6 2022, 19:58:39) [MSC v.1934 64 bit (AMD64)]"
  },
  "orig_nbformat": 4,
  "vscode": {
   "interpreter": {
    "hash": "bceeea225f1c79fe9d4a79d78f613f2a9524358526b20f158b6582de90ecacad"
   }
  }
 },
 "nbformat": 4,
 "nbformat_minor": 2
}
