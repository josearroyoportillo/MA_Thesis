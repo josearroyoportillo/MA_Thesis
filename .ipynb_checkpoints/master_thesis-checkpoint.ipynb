{
 "cells": [
  {
   "cell_type": "markdown",
   "metadata": {},
   "source": [
    "#1. Data Gathering from DENA and YouTube"
   ]
  },
  {
   "cell_type": "code",
   "execution_count": null,
   "metadata": {},
   "outputs": [],
   "source": [
    "# import reports from DENA, n = 240\n",
    "import os\n",
    "import requests\n",
    "\n",
    "urls = []\n",
    "\n",
    "output_dir = '.'\n",
    "for url in urls:\n",
    "    response = requests.get(url)\n",
    "    if response.status_code==200:\n",
    "        file_path = os.path.join(output_dir, os.path.basename(url))\n",
    "        with open(file_path, 'wb') as f:\n",
    "            f.write(response.content)\n"
   ]
  },
  {
   "cell_type": "code",
   "execution_count": null,
   "metadata": {},
   "outputs": [],
   "source": []
  }
 ],
 "metadata": {
  "kernelspec": {
   "display_name": "Python 3 (ipykernel)",
   "language": "python",
   "name": "python3"
  },
  "language_info": {
   "codemirror_mode": {
    "name": "ipython",
    "version": 3
   },
   "file_extension": ".py",
   "mimetype": "text/x-python",
   "name": "python",
   "nbconvert_exporter": "python",
   "pygments_lexer": "ipython3",
   "version": "3.9.13"
  },
  "vscode": {
   "interpreter": {
    "hash": "bceeea225f1c79fe9d4a79d78f613f2a9524358526b20f158b6582de90ecacad"
   }
  }
 },
 "nbformat": 4,
 "nbformat_minor": 2
}
